{
  "nbformat": 4,
  "nbformat_minor": 0,
  "metadata": {
    "colab": {
      "provenance": [],
      "authorship_tag": "ABX9TyNZgpeGogBa6/LwvqTm0YSY",
      "include_colab_link": true
    },
    "kernelspec": {
      "name": "python3",
      "display_name": "Python 3"
    },
    "language_info": {
      "name": "python"
    }
  },
  "cells": [
    {
      "cell_type": "markdown",
      "metadata": {
        "id": "view-in-github",
        "colab_type": "text"
      },
      "source": [
        "<a href=\"https://colab.research.google.com/github/SNJ292/snj292.github.io/blob/main/Final_Project.ipynb\" target=\"_parent\"><img src=\"https://colab.research.google.com/assets/colab-badge.svg\" alt=\"Open In Colab\"/></a>"
      ]
    },
    {
      "cell_type": "code",
      "source": [
        "import requests\n",
        "from bs4 import BeautifulSoup\n",
        "import pandas as pd\n",
        "import matplotlib.pyplot as plt\n",
        "\n",
        "years = list(range(2012, 2022))\n",
        "url_start = \"https://www.basketball-reference.com/draft/NBA_{}.html\"\n",
        "\n",
        "# We're using the url to populate our file 'draft' with drafts between 2012-2022\n",
        "for year in years:\n",
        "  url = url_start.format(year)\n",
        "  data = requests.get(url)\n",
        "\n",
        "  with open(\"draft/{}.html\".format(year), \"w+\")as f:\n",
        "    f.write(data.text)"
      ],
      "metadata": {
        "id": "4UvN6fUMYZKA"
      },
      "execution_count": null,
      "outputs": []
    },
    {
      "cell_type": "code",
      "source": [
        "\n",
        "dfs = []\n",
        "for year in years:\n",
        "  #dfs  will hold a list of the dataframes of each draft \n",
        "  with open(\"draft/{}.html\".format(year)) as f:\n",
        "    page = f.read()\n",
        "    soup = BeautifulSoup(page, \"html.parser\")\n",
        "    soup.find('tr', class_=\"over_header\").decompose()\n",
        "    draft_table = soup.find(id=\"stats\")\n",
        "    draft = pd.read_html(str(draft_table))[0]\n",
        "    draft.head()\n",
        "\n",
        "    dfs.append(draft)\n",
        "dfs"
      ],
      "metadata": {
        "colab": {
          "base_uri": "https://localhost:8080/"
        },
        "id": "-Iga_7F3kEUB",
        "outputId": "b560e130-0987-4c8f-f9a2-14298ead64fb"
      },
      "execution_count": null,
      "outputs": [
        {
          "output_type": "stream",
          "name": "stdout",
          "text": [
            "<class 'pandas.core.frame.DataFrame'>\n"
          ]
        }
      ]
    },
    {
      "cell_type": "code",
      "source": [
        "#What college produces the most point scoring players historically. \n",
        "\n",
        "college_points = {}\n",
        "\n",
        "for draft in dfs:\n",
        "  print(draft)\n",
        "  for player in draft.iterrows():\n",
        "\n",
        "    if(player[1][\"PTS\"] != \"Totals\" and player[1][\"PTS\"] != \"PTS\"):\n",
        "      college = player[1][\"College\"]\n",
        "      points = float(player[1][\"PTS\"])\n",
        "\n",
        "      if(college != \"NaN\"):\n",
        "        if(college_points.__contains__(college) == True):\n",
        "          college_points[college] = college_points[college] + points\n",
        "\n",
        "        elif(college_points.__contains__(college) == False):\n",
        "          college_points[college] = points\n",
        "\n",
        "#print(college_points)\n",
        "plt.bar(range(len(college_points)), list(college_points.values()), align='center')\n",
        "plt.xticks(range(len(college_points)), list(college_points.keys()))\n",
        "print(len(college_points.keys()))\n",
        "\n",
        "\n"
      ],
      "metadata": {
        "id": "eWwNoaKloXJK"
      },
      "execution_count": null,
      "outputs": []
    },
    {
      "cell_type": "code",
      "source": [
        "import string\n",
        "\n",
        "#What the average points scored per position in the draft.\n",
        "\n",
        "names = list(string.ascii_lowercase)\n",
        "url_pos = \"https://www.basketball-reference.com/players/{}.html\""
      ],
      "metadata": {
        "colab": {
          "base_uri": "https://localhost:8080/"
        },
        "id": "fMg_MBLGyrSN",
        "outputId": "f1968616-534a-4bf6-b24a-019b642c0b88"
      },
      "execution_count": null,
      "outputs": [
        {
          "output_type": "stream",
          "name": "stdout",
          "text": [
            "['a', 'b', 'c', 'd', 'e', 'f', 'g', 'h', 'i', 'j', 'k', 'l', 'm', 'n', 'o', 'p', 'q', 'r', 's', 't', 'u', 'v', 'w', 'x', 'y', 'z']\n"
          ]
        }
      ]
    }
  ]
}