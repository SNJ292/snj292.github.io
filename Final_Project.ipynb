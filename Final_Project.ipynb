{
  "nbformat": 4,
  "nbformat_minor": 0,
  "metadata": {
    "colab": {
      "provenance": [],
      "toc_visible": true,
      "authorship_tag": "ABX9TyPr3MbIW7i0eIOxlvNSnalR",
      "include_colab_link": true
    },
    "kernelspec": {
      "name": "python3",
      "display_name": "Python 3"
    },
    "language_info": {
      "name": "python"
    }
  },
  "cells": [
    {
      "cell_type": "markdown",
      "metadata": {
        "id": "view-in-github",
        "colab_type": "text"
      },
      "source": [
        "<a href=\"https://colab.research.google.com/github/SNJ292/snj292.github.io/blob/main/Final_Project.ipynb\" target=\"_parent\"><img src=\"https://colab.research.google.com/assets/colab-badge.svg\" alt=\"Open In Colab\"/></a>"
      ]
    },
    {
      "cell_type": "code",
      "source": [
        "from bs4 import BeautifulSoup\n",
        "import requests\n",
        "from bs4 import BeautifulSoup\n",
        "import pandas as pd\n",
        "import matplotlib.pyplot as plt\n",
        "import numpy as np\n",
        "\n",
        "\n",
        "years = list(range(2012, 2022))\n",
        "url_start = \"https://www.basketball-reference.com/draft/NBA_{}.html\"\n",
        "\n",
        "# We're using the url to populate our file 'draft' with drafts between 2012-2022\n",
        "for year in years:\n",
        "  url = url_start.format(year)\n",
        "  data = requests.get(url)\n",
        "\n",
        "  with open(\"draft/{}.html\".format(year), \"w+\")as f:\n",
        "    f.write(data.text)"
      ],
      "metadata": {
        "id": "4UvN6fUMYZKA"
      },
      "execution_count": 87,
      "outputs": []
    },
    {
      "cell_type": "code",
      "source": [
        "\n",
        "dfs = []\n",
        "for year in years:\n",
        "  #dfs  will hold a list of the dataframes of each draft \n",
        "  with open(\"draft/{}.html\".format(year)) as f:\n",
        "    page = f.read()\n",
        "    soup = BeautifulSoup(page, \"html.parser\")\n",
        "    soup.find('tr', class_=\"over_header\").decompose()\n",
        "    draft_table = soup.find(id=\"stats\")\n",
        "    draft = pd.read_html(str(draft_table))[0]\n",
        "    draft.head()\n",
        "\n",
        "    dfs.append(draft)\n",
        "dfs"
      ],
      "metadata": {
        "id": "-Iga_7F3kEUB"
      },
      "execution_count": null,
      "outputs": []
    },
    {
      "cell_type": "code",
      "source": [
        "#What college produces the most point scoring players historically. \n",
        "\n",
        "college_points = {}\n",
        "\n",
        "#Iterates through the draft and looks at each player \n",
        "for draft in dfs:\n",
        "  for player in draft.iterrows():\n",
        "   \n",
        "    #Finds the college the player used to play for and the total career points that player has made\n",
        "    if(player[1][\"PTS\"] != \"Totals\" and player[1][\"PTS\"] != \"PTS\"):\n",
        "      college = player[1][\"College\"]\n",
        "      points = player[1][\"PTS\"]\n",
        "      \n",
        "      #Maps the points to the designated college\n",
        "      if(college != \"NaN\"):\n",
        "        if(college_points.__contains__(college) == True):\n",
        "          college_points[college] = college_points[college] + float(points)\n",
        "\n",
        "        elif(college_points.__contains__(college) == False):\n",
        "          college_points[college] = float(points)\n",
        "\n",
        "#Removes any empty colleges that don't have any points\n",
        "items = list(college_points.items())\n",
        "while len(items) > 0:\n",
        "  key, val = items.pop()\n",
        "  if np.isnan(val):\n",
        "    college_points.pop(key)\n",
        "\n",
        "#Sorts the dictionary and plots it onto a bar graph\n",
        "fig, ax = plt.subplots()\n",
        "fig.set_size_inches(20, 10)\n",
        "sorted_cp = sorted(college_points.items(), key=lambda x: x[1], reverse = True)[:15]\n",
        "plt.bar(range(len(sorted_cp)), [value for key, value in sorted_cp])\n",
        "plt.xticks(range(len(sorted_cp)), [key for key, value in sorted_cp])\n",
        "plt.show()\n",
        "\n"
      ],
      "metadata": {
        "id": "eWwNoaKloXJK",
        "colab": {
          "base_uri": "https://localhost:8080/",
          "height": 515
        },
        "outputId": "33aab529-5d51-415f-837d-118f0be530b3"
      },
      "execution_count": 108,
      "outputs": [
        {
          "output_type": "display_data",
          "data": {
            "text/plain": [
              "<Figure size 1440x720 with 1 Axes>"
            ],
            "image/png": "[encoded data removed]"
          },
          "metadata": {
            "needs_background": "light"
          }
        }
      ]
    }
  ]
}